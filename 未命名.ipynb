{
 "cells": [
  {
   "cell_type": "code",
   "execution_count": null,
   "metadata": {},
   "outputs": [],
   "source": [
    "import plotly.express as px\n",
    "from vega_datasets import data\n",
    "df = data.disasters()\n",
    "df = df[df.Year > 1990]\n",
    "fig = px.bar(df,\n",
    "             y=\"Entity\",\n",
    "             x=\"Deaths\",\n",
    "             animation_frame=\"Year\",\n",
    "             orientation='h',\n",
    "             range_x=[0, df.Deaths.max()],\n",
    "             color=\"Entity\")\n",
    "# improve aesthetics (size, grids etc.)\n",
    "fig.update_layout(width=1000,\n",
    "                  height=800,\n",
    "                  xaxis_showgrid=False,\n",
    "                  yaxis_showgrid=False,\n",
    "                  paper_bgcolor='rgba(0,0,0,0)',\n",
    "                  plot_bgcolor='rgba(0,0,0,0)',\n",
    "                  title_text='Evolution of Natural Disasters',\n",
    "                  showlegend=False)\n",
    "fig.update_xaxes(title_text='Number of Deaths')\n",
    "fig.update_yaxes(title_text='')\n",
    "fig.show()"
   ]
  }
 ],
 "metadata": {
  "kernelspec": {
   "display_name": "Python 3",
   "language": "python",
   "name": "python3"
  },
  "language_info": {
   "codemirror_mode": {
    "name": "ipython",
    "version": 3
   },
   "file_extension": ".py",
   "mimetype": "text/x-python",
   "name": "python",
   "nbconvert_exporter": "python",
   "pygments_lexer": "ipython3",
   "version": "3.6.6"
  }
 },
 "nbformat": 4,
 "nbformat_minor": 2
}
